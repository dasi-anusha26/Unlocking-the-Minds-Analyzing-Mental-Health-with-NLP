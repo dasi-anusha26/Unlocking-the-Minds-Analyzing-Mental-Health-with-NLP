{
 "cells": [
  {
   "cell_type": "markdown",
   "id": "e425c275-030f-4eb5-9172-29442ddf590a",
   "metadata": {},
   "source": [
    "# Unlocking the Minds: Analyzing Mental Health with NLP"
   ]
  },
  {
   "cell_type": "markdown",
   "id": "83a6b65c-ea97-4561-a993-3c2c54a277a9",
   "metadata": {},
   "source": [
    "PROBLEM STATEMENT: **Problem Statement:**\n",
    "\n",
    "Mental health is a complex and multifaceted issue, often burdened by stigma, making it challenging to understand and address. Traditional methods of analyzing mental health data are limited in scope and may not capture the nuanced linguistic patterns present in textual data. This project aims to leverage Natural Language Processing (NLP) techniques to analyze diverse sources of textual data—such as social media, therapy session transcripts, and academic research—to extract valuable insights into mental health conditions. The goal is to deepen understanding of mental health, inform research and clinical practices, support advocacy efforts, and ultimately contribute to more effective interventions and support systems."
   ]
  },
  {
   "cell_type": "markdown",
   "id": "d9200d20-f755-4e47-8548-4f6a0ce6ab28",
   "metadata": {},
   "source": [
    "# Importing the libraries\n"
   ]
  },
  {
   "cell_type": "code",
   "execution_count": 1,
   "id": "f6799752-41d2-4f1d-a36a-25fb4591f8dd",
   "metadata": {},
   "outputs": [
    {
     "name": "stderr",
     "output_type": "stream",
     "text": [
      "[nltk_data] Downloading package stopwords to\n",
      "[nltk_data]     C:\\Users\\lenovo\\AppData\\Roaming\\nltk_data...\n",
      "[nltk_data]   Package stopwords is already up-to-date!\n",
      "[nltk_data] Downloading package punkt to\n",
      "[nltk_data]     C:\\Users\\lenovo\\AppData\\Roaming\\nltk_data...\n",
      "[nltk_data]   Package punkt is already up-to-date!\n"
     ]
    }
   ],
   "source": [
    "import numpy as np\n",
    "import pandas as pd \n",
    "import matplotlib.pyplot as plt \n",
    "import seaborn as sns \n",
    "import nltk # spacy \n",
    "import re # removing the special characters \n",
    "nltk.download('stopwords') \n",
    "from nltk.corpus import stopwords \n",
    "from nltk.stem import WordNetLemmatizer \n",
    "nltk.download(\"punkt\") \n",
    "from nltk.tokenize import word_tokenize \n",
    "from sklearn.feature_extraction.text import TfidfVectorizer"
   ]
  },
  {
   "cell_type": "markdown",
   "id": "db957708-f6d4-4628-beb3-e013593ff40c",
   "metadata": {},
   "source": [
    "# Read the dataset"
   ]
  },
  {
   "cell_type": "code",
   "execution_count": 2,
   "id": "1424d230-a091-49fb-a873-e625d2718223",
   "metadata": {},
   "outputs": [],
   "source": [
    "df = pd.read_csv('C:/Users/lenovo/Desktop/Unlocking_minds/dataset/mental_health.csv')"
   ]
  },
  {
   "cell_type": "markdown",
   "id": "7442be9f-1614-4ce6-b4c3-9e86e54f83c0",
   "metadata": {},
   "source": [
    "# Data preparation"
   ]
  },
  {
   "cell_type": "markdown",
   "id": "4a408751-05e0-4d2a-99a9-4fe419b746f9",
   "metadata": {},
   "source": [
    "# Handling missing values"
   ]
  },
  {
   "cell_type": "code",
   "execution_count": 3,
   "id": "c88ed03d-c2e8-4b9a-bd09-910406e27404",
   "metadata": {},
   "outputs": [
    {
     "data": {
      "text/plain": [
       "(27977, 2)"
      ]
     },
     "execution_count": 3,
     "metadata": {},
     "output_type": "execute_result"
    }
   ],
   "source": [
    "df.shape"
   ]
  },
  {
   "cell_type": "code",
   "execution_count": 4,
   "id": "1ad141b7-e036-4af0-b40d-3bdf8cd3485f",
   "metadata": {},
   "outputs": [
    {
     "data": {
      "text/plain": [
       "text     object\n",
       "label     int64\n",
       "dtype: object"
      ]
     },
     "execution_count": 4,
     "metadata": {},
     "output_type": "execute_result"
    }
   ],
   "source": [
    "df.dtypes"
   ]
  },
  {
   "cell_type": "code",
   "execution_count": 5,
   "id": "4965abac-8b0b-47fa-9ff7-d64e48b17bf0",
   "metadata": {},
   "outputs": [
    {
     "data": {
      "text/plain": [
       "array([0, 1], dtype=int64)"
      ]
     },
     "execution_count": 5,
     "metadata": {},
     "output_type": "execute_result"
    }
   ],
   "source": [
    "df['label'].unique()"
   ]
  },
  {
   "cell_type": "code",
   "execution_count": 6,
   "id": "60e4c50e-ee62-484b-ae82-9f00e9e7e8c0",
   "metadata": {},
   "outputs": [
    {
     "data": {
      "text/plain": [
       "text     0\n",
       "label    0\n",
       "dtype: int64"
      ]
     },
     "execution_count": 6,
     "metadata": {},
     "output_type": "execute_result"
    }
   ],
   "source": [
    "df.isnull().sum()"
   ]
  },
  {
   "cell_type": "markdown",
   "id": "ea5e33de-bf51-4d71-ada4-cc615dd540fe",
   "metadata": {},
   "source": [
    "# Handling Duplicate Values"
   ]
  },
  {
   "cell_type": "code",
   "execution_count": 7,
   "id": "4354c788-b43f-4443-bacf-194043ea7fdd",
   "metadata": {},
   "outputs": [
    {
     "data": {
      "text/plain": [
       "5"
      ]
     },
     "execution_count": 7,
     "metadata": {},
     "output_type": "execute_result"
    }
   ],
   "source": [
    "df.duplicated().sum()"
   ]
  },
  {
   "cell_type": "code",
   "execution_count": 8,
   "id": "23f8b1b1-a710-43db-b226-fb27adfc9b52",
   "metadata": {},
   "outputs": [
    {
     "name": "stdout",
     "output_type": "stream",
     "text": [
      "Number of Duplicates: 0\n"
     ]
    }
   ],
   "source": [
    "df = df.drop_duplicates() \n",
    "print('Number of Duplicates:', len(df[df.duplicated()]))"
   ]
  },
  {
   "cell_type": "markdown",
   "id": "4114073f-052f-4e24-a288-ed43f5987c00",
   "metadata": {},
   "source": [
    "# Handling Imbalance Data"
   ]
  },
  {
   "cell_type": "code",
   "execution_count": 9,
   "id": "170ce8fd-1841-469f-b856-fe56466b39b0",
   "metadata": {},
   "outputs": [
    {
     "data": {
      "text/plain": [
       "label\n",
       "0    14134\n",
       "1    13838\n",
       "Name: count, dtype: int64"
      ]
     },
     "execution_count": 9,
     "metadata": {},
     "output_type": "execute_result"
    }
   ],
   "source": [
    "df['label'].value_counts()"
   ]
  },
  {
   "cell_type": "markdown",
   "id": "58bb8ad0-117b-4e48-a969-ca76b320f6f0",
   "metadata": {},
   "source": [
    "# Exploratory Data Analysis"
   ]
  },
  {
   "cell_type": "markdown",
   "id": "db07f622-c0f6-4b49-b576-3784f26253c8",
   "metadata": {},
   "source": [
    "# Descriptive Statistical"
   ]
  },
  {
   "cell_type": "code",
   "execution_count": 10,
   "id": "c61a5ab9-54dd-406b-910a-383036f2914d",
   "metadata": {},
   "outputs": [
    {
     "data": {
      "text/html": [
       "<div>\n",
       "<style scoped>\n",
       "    .dataframe tbody tr th:only-of-type {\n",
       "        vertical-align: middle;\n",
       "    }\n",
       "\n",
       "    .dataframe tbody tr th {\n",
       "        vertical-align: top;\n",
       "    }\n",
       "\n",
       "    .dataframe thead th {\n",
       "        text-align: right;\n",
       "    }\n",
       "</style>\n",
       "<table border=\"1\" class=\"dataframe\">\n",
       "  <thead>\n",
       "    <tr style=\"text-align: right;\">\n",
       "      <th></th>\n",
       "      <th>text</th>\n",
       "      <th>label</th>\n",
       "    </tr>\n",
       "  </thead>\n",
       "  <tbody>\n",
       "    <tr>\n",
       "      <th>count</th>\n",
       "      <td>27972</td>\n",
       "      <td>27972.000000</td>\n",
       "    </tr>\n",
       "    <tr>\n",
       "      <th>unique</th>\n",
       "      <td>27972</td>\n",
       "      <td>NaN</td>\n",
       "    </tr>\n",
       "    <tr>\n",
       "      <th>top</th>\n",
       "      <td>dear american teens question dutch person hear...</td>\n",
       "      <td>NaN</td>\n",
       "    </tr>\n",
       "    <tr>\n",
       "      <th>freq</th>\n",
       "      <td>1</td>\n",
       "      <td>NaN</td>\n",
       "    </tr>\n",
       "    <tr>\n",
       "      <th>mean</th>\n",
       "      <td>NaN</td>\n",
       "      <td>0.494709</td>\n",
       "    </tr>\n",
       "    <tr>\n",
       "      <th>std</th>\n",
       "      <td>NaN</td>\n",
       "      <td>0.499981</td>\n",
       "    </tr>\n",
       "    <tr>\n",
       "      <th>min</th>\n",
       "      <td>NaN</td>\n",
       "      <td>0.000000</td>\n",
       "    </tr>\n",
       "    <tr>\n",
       "      <th>25%</th>\n",
       "      <td>NaN</td>\n",
       "      <td>0.000000</td>\n",
       "    </tr>\n",
       "    <tr>\n",
       "      <th>50%</th>\n",
       "      <td>NaN</td>\n",
       "      <td>0.000000</td>\n",
       "    </tr>\n",
       "    <tr>\n",
       "      <th>75%</th>\n",
       "      <td>NaN</td>\n",
       "      <td>1.000000</td>\n",
       "    </tr>\n",
       "    <tr>\n",
       "      <th>max</th>\n",
       "      <td>NaN</td>\n",
       "      <td>1.000000</td>\n",
       "    </tr>\n",
       "  </tbody>\n",
       "</table>\n",
       "</div>"
      ],
      "text/plain": [
       "                                                     text         label\n",
       "count                                               27972  27972.000000\n",
       "unique                                              27972           NaN\n",
       "top     dear american teens question dutch person hear...           NaN\n",
       "freq                                                    1           NaN\n",
       "mean                                                  NaN      0.494709\n",
       "std                                                   NaN      0.499981\n",
       "min                                                   NaN      0.000000\n",
       "25%                                                   NaN      0.000000\n",
       "50%                                                   NaN      0.000000\n",
       "75%                                                   NaN      1.000000\n",
       "max                                                   NaN      1.000000"
      ]
     },
     "execution_count": 10,
     "metadata": {},
     "output_type": "execute_result"
    }
   ],
   "source": [
    "df.describe(include='all')"
   ]
  },
  {
   "cell_type": "markdown",
   "id": "7bd2f55e-c384-4e8f-8315-c9bc085aa493",
   "metadata": {},
   "source": [
    "# Visual analysis"
   ]
  },
  {
   "cell_type": "markdown",
   "id": "e4724c9e-a229-4526-912c-e1bc287bae77",
   "metadata": {},
   "source": [
    "# Univariate analysis"
   ]
  },
  {
   "cell_type": "code",
   "execution_count": 11,
   "id": "6a4a7b6f-55e7-41b6-8221-2acab30de504",
   "metadata": {},
   "outputs": [
    {
     "data": {
      "image/png": "[encoded data removed]",
      "text/plain": [
       "<Figure size 500x600 with 1 Axes>"
      ]
     },
     "metadata": {},
     "output_type": "display_data"
    }
   ],
   "source": [
    "plt.figure(figsize=(5,6))  # set the size of the plot\n",
    "plt.pie(df['label'].value_counts(), labels=df['label'].value_counts().index, autopct='%1.1f%%',\n",
    "        explode=[0, 0.05], startangle=140)\n",
    "plt.show()\n"
   ]
  },
  {
   "cell_type": "markdown",
   "id": "9a7abdec-c09e-4a58-9309-b80a94f21488",
   "metadata": {},
   "source": [
    "# Text pre-processing (python packages)"
   ]
  },
  {
   "cell_type": "code",
   "execution_count": 12,
   "id": "0ef1ea81-1811-4401-81bc-0d1b5f834ce1",
   "metadata": {},
   "outputs": [],
   "source": [
    "def remove_stopwords(sentence):\n",
    "    # List of stopwords\n",
    "    stopwords = [\"a\", \"about\", \"above\", \"after\", \"again\", \"against\", \"all\", \"am\", \"an\", \"and\", \"any\", \n",
    "                 \"are\", \"as\", \"at\", \"be\", \"because\", \"been\", \"before\", \"being\", \"below\", \"between\", \n",
    "                 \"both\", \"but\", \"by\", \"could\", \"did\", \"do\", \"does\", \"doing\", \"down\", \"during\", \"each\", \n",
    "                 \"few\", \"for\", \"from\", \"further\", \"had\", \"has\", \"have\", \"having\", \"he\", \"he'd\", \"he'll\", \n",
    "                 \"he's\", \"her\", \"here\", \"here's\", \"hers\", \"herself\", \"him\", \"himself\", \"his\", \"how\", \"how's\", \n",
    "                 \"i\", \"i'd\", \"i'll\", \"i'm\", \"i've\", \"if\", \"in\", \"into\", \"is\", \"it\", \"it's\", \"its\", \"itself\", \n",
    "                 \"let's\", \"me\", \"more\", \"most\", \"my\", \"myself\", \"nor\", \"of\", \"on\", \"once\", \"only\", \"or\", \n",
    "                 \"other\", \"ought\", \"our\", \"ours\", \"ourselves\", \"out\", \"over\", \"own\", \"same\", \"she\", \n",
    "                 \"she'd\", \"she'll\", \"she's\", \"should\", \"so\", \"some\", \"such\", \"than\", \"that\", \"that's\", \n",
    "                 \"the\", \"their\", \"theirs\", \"them\", \"themselves\", \"then\", \"there\", \"there's\", \"these\", \n",
    "                 \"they\", \"they'd\", \"they'll\", \"they're\", \"they've\", \"this\", \"those\", \"through\", \"to\", \n",
    "                 \"too\", \"under\", \"until\", \"up\", \"very\", \"was\", \"we\", \"we'd\", \"we'll\", \"we're\", \"we've\", \n",
    "                 \"were\", \"what\", \"what's\", \"when\", \"when's\", \"where\", \"where's\", \"which\", \"while\", \"who\", \n",
    "                 \"who's\", \"whom\", \"why\", \"why's\", \"with\", \"would\", \"you\", \"you'd\", \"you'll\", \"you're\", \n",
    "                 \"you've\", \"your\", \"yours\", \"yourself\", \"yourselves\"]\n",
    "\n",
    "    # Sentence converted to lowercase-only\n",
    "    sentence = sentence.lower()\n",
    "\n",
    "    words = sentence.split()\n",
    "    no_words = [w for w in words if w not in stopwords]\n",
    "    sentence = \" \".join(no_words)\n",
    "\n",
    "    return sentence\n"
   ]
  },
  {
   "cell_type": "code",
   "execution_count": 13,
   "id": "67975c1b-dff6-41d3-8fa4-5f6b42bf2e3c",
   "metadata": {},
   "outputs": [],
   "source": [
    "df['text1'] = (df['text'].apply(remove_stopwords))"
   ]
  },
  {
   "cell_type": "code",
   "execution_count": 14,
   "id": "7de45285-5904-42cf-929b-c0cec3599f2d",
   "metadata": {},
   "outputs": [
    {
     "data": {
      "text/plain": [
       "0        dear american teens question dutch person hear...\n",
       "1        nothing look forward lifei dont many reasons k...\n",
       "2        music recommendations im looking expand playli...\n",
       "3        im done trying feel betterthe reason im still ...\n",
       "4        worried year old girl subject domestic physica...\n",
       "                               ...                        \n",
       "27972    posting everyday people stop caring religion m...\n",
       "27973    okay definetly need hear guys opinion ive pret...\n",
       "27974    cant get dog think ill kill myselfthe last thi...\n",
       "27975    whats point princess bridei really think like ...\n",
       "27976    got nudes person might might know snapchat ok ...\n",
       "Name: text1, Length: 27972, dtype: object"
      ]
     },
     "execution_count": 14,
     "metadata": {},
     "output_type": "execute_result"
    }
   ],
   "source": [
    "msg=df['text1'].str.replace('[^a-zA-Z0-9]+',\"\")\n",
    "msg"
   ]
  },
  {
   "cell_type": "code",
   "execution_count": 15,
   "id": "ba0a0a37-be12-41be-bb39-2754c2846922",
   "metadata": {},
   "outputs": [],
   "source": [
    "lemmatizer = WordNetLemmatizer()\n",
    "data=[]"
   ]
  },
  {
   "cell_type": "code",
   "execution_count": 16,
   "id": "0d25988c-b4e9-4cdd-b71c-c1ca3f3a673a",
   "metadata": {},
   "outputs": [
    {
     "data": {
      "text/html": [
       "<div>\n",
       "<style scoped>\n",
       "    .dataframe tbody tr th:only-of-type {\n",
       "        vertical-align: middle;\n",
       "    }\n",
       "\n",
       "    .dataframe tbody tr th {\n",
       "        vertical-align: top;\n",
       "    }\n",
       "\n",
       "    .dataframe thead th {\n",
       "        text-align: right;\n",
       "    }\n",
       "</style>\n",
       "<table border=\"1\" class=\"dataframe\">\n",
       "  <thead>\n",
       "    <tr style=\"text-align: right;\">\n",
       "      <th></th>\n",
       "      <th>pre-clean text</th>\n",
       "      <th>pre-clean len</th>\n",
       "      <th>post-clean text</th>\n",
       "      <th>post-clean len</th>\n",
       "    </tr>\n",
       "  </thead>\n",
       "  <tbody>\n",
       "    <tr>\n",
       "      <th>0</th>\n",
       "      <td>dear american teens question dutch person hear...</td>\n",
       "      <td>23</td>\n",
       "      <td>dear american teens question dutch person hear...</td>\n",
       "      <td>23</td>\n",
       "    </tr>\n",
       "    <tr>\n",
       "      <th>1</th>\n",
       "      <td>nothing look forward lifei dont many reasons k...</td>\n",
       "      <td>20</td>\n",
       "      <td>nothing look forward lifei dont many reasons k...</td>\n",
       "      <td>19</td>\n",
       "    </tr>\n",
       "    <tr>\n",
       "      <th>2</th>\n",
       "      <td>music recommendations im looking expand playli...</td>\n",
       "      <td>64</td>\n",
       "      <td>music recommendations im looking expand playli...</td>\n",
       "      <td>61</td>\n",
       "    </tr>\n",
       "    <tr>\n",
       "      <th>3</th>\n",
       "      <td>im done trying feel betterthe reason im still ...</td>\n",
       "      <td>100</td>\n",
       "      <td>im done trying feel betterthe reason im still ...</td>\n",
       "      <td>96</td>\n",
       "    </tr>\n",
       "    <tr>\n",
       "      <th>4</th>\n",
       "      <td>worried  year old girl subject domestic physic...</td>\n",
       "      <td>311</td>\n",
       "      <td>worried year old girl subject domestic physica...</td>\n",
       "      <td>296</td>\n",
       "    </tr>\n",
       "    <tr>\n",
       "      <th>5</th>\n",
       "      <td>hey rredflag sure right place post this goes  ...</td>\n",
       "      <td>61</td>\n",
       "      <td>hey rredflag sure right place post goes im cur...</td>\n",
       "      <td>57</td>\n",
       "    </tr>\n",
       "    <tr>\n",
       "      <th>6</th>\n",
       "      <td>feel like someone needs hear tonight feeling r...</td>\n",
       "      <td>79</td>\n",
       "      <td>feel like someone needs hear tonight feeling r...</td>\n",
       "      <td>69</td>\n",
       "    </tr>\n",
       "    <tr>\n",
       "      <th>7</th>\n",
       "      <td>deserve liveif died right noone would carei re...</td>\n",
       "      <td>51</td>\n",
       "      <td>deserve liveif died right noone carei real fri...</td>\n",
       "      <td>47</td>\n",
       "    </tr>\n",
       "    <tr>\n",
       "      <th>8</th>\n",
       "      <td>feels good ive set dateim killing friday nice ...</td>\n",
       "      <td>14</td>\n",
       "      <td>feels good ive set dateim killing friday nice ...</td>\n",
       "      <td>13</td>\n",
       "    </tr>\n",
       "    <tr>\n",
       "      <th>9</th>\n",
       "      <td>live guiltok made stupid random choice  its ge...</td>\n",
       "      <td>66</td>\n",
       "      <td>live guiltok made stupid random choice getting...</td>\n",
       "      <td>62</td>\n",
       "    </tr>\n",
       "    <tr>\n",
       "      <th>10</th>\n",
       "      <td>excercise motivated ngl cant wait get shape kn...</td>\n",
       "      <td>14</td>\n",
       "      <td>excercise motivated ngl cant wait get shape kn...</td>\n",
       "      <td>14</td>\n",
       "    </tr>\n",
       "    <tr>\n",
       "      <th>11</th>\n",
       "      <td>know youd rather laid big booty body hella pos...</td>\n",
       "      <td>13</td>\n",
       "      <td>know youd rather laid big booty body hella pos...</td>\n",
       "      <td>13</td>\n",
       "    </tr>\n",
       "    <tr>\n",
       "      <th>12</th>\n",
       "      <td>even time fuck  supposed mean</td>\n",
       "      <td>5</td>\n",
       "      <td>even time fuck supposed mean</td>\n",
       "      <td>5</td>\n",
       "    </tr>\n",
       "    <tr>\n",
       "      <th>13</th>\n",
       "      <td>usual hollywood stereotyped everyone movie but...</td>\n",
       "      <td>33</td>\n",
       "      <td>usual hollywood stereotyped everyone movie one...</td>\n",
       "      <td>31</td>\n",
       "    </tr>\n",
       "    <tr>\n",
       "      <th>14</th>\n",
       "      <td>think it nearly unbelievable film could made d...</td>\n",
       "      <td>61</td>\n",
       "      <td>think nearly unbelievable film made death pena...</td>\n",
       "      <td>55</td>\n",
       "    </tr>\n",
       "    <tr>\n",
       "      <th>15</th>\n",
       "      <td>trying rd time k krma special</td>\n",
       "      <td>6</td>\n",
       "      <td>trying rd time k krma special</td>\n",
       "      <td>6</td>\n",
       "    </tr>\n",
       "    <tr>\n",
       "      <th>16</th>\n",
       "      <td>guy coming sure wear f hey guy friend coming t...</td>\n",
       "      <td>127</td>\n",
       "      <td>guy coming sure wear f hey guy friend coming t...</td>\n",
       "      <td>122</td>\n",
       "    </tr>\n",
       "    <tr>\n",
       "      <th>17</th>\n",
       "      <td>one best episodes entire xfiles series creepy ...</td>\n",
       "      <td>59</td>\n",
       "      <td>one best episodes entire xfiles series creepy ...</td>\n",
       "      <td>58</td>\n",
       "    </tr>\n",
       "    <tr>\n",
       "      <th>18</th>\n",
       "      <td>good byehey you know sure hell know me goodbye...</td>\n",
       "      <td>190</td>\n",
       "      <td>good byehey know sure hell know goodbye probab...</td>\n",
       "      <td>179</td>\n",
       "    </tr>\n",
       "    <tr>\n",
       "      <th>19</th>\n",
       "      <td>tried put sugar coffee back spoon happy monday...</td>\n",
       "      <td>13</td>\n",
       "      <td>tried put sugar coffee back spoon happy monday...</td>\n",
       "      <td>13</td>\n",
       "    </tr>\n",
       "  </tbody>\n",
       "</table>\n",
       "</div>"
      ],
      "text/plain": [
       "                                       pre-clean text  pre-clean len  \\\n",
       "0   dear american teens question dutch person hear...             23   \n",
       "1   nothing look forward lifei dont many reasons k...             20   \n",
       "2   music recommendations im looking expand playli...             64   \n",
       "3   im done trying feel betterthe reason im still ...            100   \n",
       "4   worried  year old girl subject domestic physic...            311   \n",
       "5   hey rredflag sure right place post this goes  ...             61   \n",
       "6   feel like someone needs hear tonight feeling r...             79   \n",
       "7   deserve liveif died right noone would carei re...             51   \n",
       "8   feels good ive set dateim killing friday nice ...             14   \n",
       "9   live guiltok made stupid random choice  its ge...             66   \n",
       "10  excercise motivated ngl cant wait get shape kn...             14   \n",
       "11  know youd rather laid big booty body hella pos...             13   \n",
       "12                      even time fuck  supposed mean              5   \n",
       "13  usual hollywood stereotyped everyone movie but...             33   \n",
       "14  think it nearly unbelievable film could made d...             61   \n",
       "15                      trying rd time k krma special              6   \n",
       "16  guy coming sure wear f hey guy friend coming t...            127   \n",
       "17  one best episodes entire xfiles series creepy ...             59   \n",
       "18  good byehey you know sure hell know me goodbye...            190   \n",
       "19  tried put sugar coffee back spoon happy monday...             13   \n",
       "\n",
       "                                      post-clean text  post-clean len  \n",
       "0   dear american teens question dutch person hear...              23  \n",
       "1   nothing look forward lifei dont many reasons k...              19  \n",
       "2   music recommendations im looking expand playli...              61  \n",
       "3   im done trying feel betterthe reason im still ...              96  \n",
       "4   worried year old girl subject domestic physica...             296  \n",
       "5   hey rredflag sure right place post goes im cur...              57  \n",
       "6   feel like someone needs hear tonight feeling r...              69  \n",
       "7   deserve liveif died right noone carei real fri...              47  \n",
       "8   feels good ive set dateim killing friday nice ...              13  \n",
       "9   live guiltok made stupid random choice getting...              62  \n",
       "10  excercise motivated ngl cant wait get shape kn...              14  \n",
       "11  know youd rather laid big booty body hella pos...              13  \n",
       "12                       even time fuck supposed mean               5  \n",
       "13  usual hollywood stereotyped everyone movie one...              31  \n",
       "14  think nearly unbelievable film made death pena...              55  \n",
       "15                      trying rd time k krma special               6  \n",
       "16  guy coming sure wear f hey guy friend coming t...             122  \n",
       "17  one best episodes entire xfiles series creepy ...              58  \n",
       "18  good byehey know sure hell know goodbye probab...             179  \n",
       "19  tried put sugar coffee back spoon happy monday...              13  "
      ]
     },
     "execution_count": 16,
     "metadata": {},
     "output_type": "execute_result"
    }
   ],
   "source": [
    "df_comp = pd.DataFrame()\n",
    "\n",
    "# Original text and its length\n",
    "df_comp['pre-clean text'] = df['text']\n",
    "df_comp['pre-clean len'] = df['text'].apply(lambda x: len(str(x).split()))\n",
    "\n",
    "# Cleaned text and its length\n",
    "df_comp['post-clean text'] = df['text1']\n",
    "df_comp['post-clean len'] = df['text1'].apply(lambda x: len(str(x).split()))\n",
    "\n",
    "df_comp.head(20)"
   ]
  },
  {
   "cell_type": "code",
   "execution_count": 17,
   "id": "c09dcafb-8d1a-4e42-9b80-8a402cbc96b8",
   "metadata": {},
   "outputs": [],
   "source": [
    "def preprocess_text(text):\n",
    "    #Tokenize the text\n",
    "    tokens = word_tokenize(text)\n",
    "\n",
    "    # Filter tokens with length greater than 2\n",
    "    filtered_tokens = [token for token in tokens if len(token) > 3]\n",
    "\n",
    "    #Stem each token \n",
    "    lemmed_tokens = [lemmatizer.lemmatize(token.lower()) for token in filtered_tokens]\n",
    "\n",
    "    #Join stemmed tokens into a single string\n",
    "    preprocessed_text = \" \".join(lemmed_tokens)\n",
    "\n",
    "    return preprocessed_text\n",
    "\n"
   ]
  },
  {
   "cell_type": "code",
   "execution_count": 18,
   "id": "1e7cd07f-d7ed-4afe-84e0-e57366737544",
   "metadata": {},
   "outputs": [
    {
     "name": "stderr",
     "output_type": "stream",
     "text": [
      "[nltk_data] Downloading package wordnet to\n",
      "[nltk_data]     C:\\Users\\lenovo\\AppData\\Roaming\\nltk_data...\n",
      "[nltk_data]   Package wordnet is already up-to-date!\n",
      "[nltk_data] Downloading package omw-1.4 to\n",
      "[nltk_data]     C:\\Users\\lenovo\\AppData\\Roaming\\nltk_data...\n",
      "[nltk_data]   Package omw-1.4 is already up-to-date!\n"
     ]
    }
   ],
   "source": [
    "import nltk\n",
    "nltk.download('wordnet')\n",
    "nltk.download('omw-1.4')\n",
    "\n",
    "# Apply text preprocessing to each row of the DataFrame\n",
    "df['preprocessed_text'] = df['text'].apply(preprocess_text)\n"
   ]
  },
  {
   "cell_type": "code",
   "execution_count": 19,
   "id": "6b774789-cc21-473b-bf16-dd6e9ffc0401",
   "metadata": {},
   "outputs": [
    {
     "data": {
      "text/plain": [
       "0        dear american teen question dutch person heard...\n",
       "1        nothing look forward lifei dont many reason ke...\n",
       "2        music recommendation looking expand playlist u...\n",
       "3        done trying feel betterthe reason still alive ...\n",
       "4        worried year girl subject domestic physicalmen...\n",
       "                               ...                        \n",
       "27972    posting everyday people stop caring religion m...\n",
       "27973    okay definetly need hear guy opinion pretty mu...\n",
       "27974    cant think kill myselfthe last thing holding f...\n",
       "27975    whats point princess bridei really think like ...\n",
       "27976    nude person might might know snapchat chick do...\n",
       "Name: preprocessed_text, Length: 27972, dtype: object"
      ]
     },
     "execution_count": 19,
     "metadata": {},
     "output_type": "execute_result"
    }
   ],
   "source": [
    "df['preprocessed_text']"
   ]
  },
  {
   "cell_type": "code",
   "execution_count": 20,
   "id": "425bc1ad-da34-4a42-a9c6-557b21bb4e62",
   "metadata": {},
   "outputs": [],
   "source": [
    "from sklearn.feature_extraction.text import TfidfVectorizer"
   ]
  },
  {
   "cell_type": "code",
   "execution_count": 21,
   "id": "532e256c-c37e-46af-8a5f-927cac741aeb",
   "metadata": {},
   "outputs": [
    {
     "name": "stdout",
     "output_type": "stream",
     "text": [
      "  (0, 35204)\t0.21804898953185217\n",
      "  (0, 48128)\t0.1145780472254488\n",
      "  (0, 33159)\t0.07124363521222607\n",
      "  (0, 23757)\t0.3220114439469657\n",
      "  (0, 57603)\t0.36933406227685084\n",
      "  (0, 53019)\t0.3336101984581227\n",
      "  (0, 32550)\t0.3873429887336453\n",
      "  (0, 57125)\t0.09362764137975424\n",
      "  (0, 16878)\t0.1932829882540074\n",
      "  (0, 24584)\t0.2886910879066707\n",
      "  (0, 25560)\t0.18101416301967765\n",
      "  (0, 42534)\t0.12344475100053896\n",
      "  (0, 16703)\t0.30023696328663485\n",
      "  (0, 45540)\t0.16071070046290822\n",
      "  (0, 56385)\t0.19736817350493938\n",
      "  (0, 2040)\t0.19994284992381717\n",
      "  (0, 13409)\t0.24586225692206828\n",
      "  (1, 37968)\t0.18903537257078948\n",
      "  (1, 24990)\t0.2822807905982793\n",
      "  (1, 62218)\t0.12422939803537507\n",
      "  (1, 34624)\t0.15077464729048506\n",
      "  (1, 38726)\t0.22920275694835882\n",
      "  (1, 20098)\t0.13368296108790453\n",
      "  (1, 23395)\t0.3107441836345248\n",
      "  (1, 31387)\t0.38268180202352686\n",
      "  :\t:\n",
      "  (27971, 64430)\t0.27730962513676133\n",
      "  (27971, 9323)\t0.22112811999761792\n",
      "  (27971, 39625)\t0.42639884793095445\n",
      "  (27971, 52451)\t0.18944630748831312\n",
      "  (27971, 709)\t0.18856208198253607\n",
      "  (27971, 47657)\t0.17880297471141748\n",
      "  (27971, 52454)\t0.20946450228258362\n",
      "  (27971, 36324)\t0.34427485479869613\n",
      "  (27971, 28203)\t0.12299596145857711\n",
      "  (27971, 40466)\t0.18430641606769715\n",
      "  (27971, 11863)\t0.16117604400193455\n",
      "  (27971, 669)\t0.10820628388571722\n",
      "  (27971, 57406)\t0.08803550433379724\n",
      "  (27971, 20594)\t0.0999739517156818\n",
      "  (27971, 64161)\t0.1168498714160549\n",
      "  (27971, 52874)\t0.09040714388356834\n",
      "  (27971, 55484)\t0.10848772956649802\n",
      "  (27971, 49698)\t0.0992444827206313\n",
      "  (27971, 50549)\t0.15696390898820606\n",
      "  (27971, 18547)\t0.07349644512632199\n",
      "  (27971, 57247)\t0.09585256937032412\n",
      "  (27971, 31809)\t0.32442129548060633\n",
      "  (27971, 15905)\t0.17565250859672324\n",
      "  (27971, 33871)\t0.10585408854873903\n",
      "  (27971, 42534)\t0.303412806173664\n"
     ]
    }
   ],
   "source": [
    "\n",
    "\n",
    "from sklearn.feature_extraction.text import TfidfVectorizer\n",
    "tf=TfidfVectorizer()\n",
    "data_vec=tf.fit_transform(df['preprocessed_text'])\n",
    "print(data_vec)\n"
   ]
  },
  {
   "cell_type": "code",
   "execution_count": 22,
   "id": "dc2ed77b-9ef7-4d3c-a73c-9d52d9b29dd2",
   "metadata": {},
   "outputs": [],
   "source": [
    "df['text_length'] = df['preprocessed_text'].apply(lambda x: len(str(x).split()))"
   ]
  },
  {
   "cell_type": "code",
   "execution_count": 23,
   "id": "54899363-d02e-4238-9b33-caae9ed92da1",
   "metadata": {},
   "outputs": [],
   "source": [
    "df = df.drop(['text', 'text1'], axis=1)"
   ]
  },
  {
   "cell_type": "code",
   "execution_count": 24,
   "id": "775a769b-9d6a-4c4d-b5b7-d4ff5753e932",
   "metadata": {},
   "outputs": [
    {
     "data": {
      "text/html": [
       "<div>\n",
       "<style scoped>\n",
       "    .dataframe tbody tr th:only-of-type {\n",
       "        vertical-align: middle;\n",
       "    }\n",
       "\n",
       "    .dataframe tbody tr th {\n",
       "        vertical-align: top;\n",
       "    }\n",
       "\n",
       "    .dataframe thead th {\n",
       "        text-align: right;\n",
       "    }\n",
       "</style>\n",
       "<table border=\"1\" class=\"dataframe\">\n",
       "  <thead>\n",
       "    <tr style=\"text-align: right;\">\n",
       "      <th></th>\n",
       "      <th>label</th>\n",
       "      <th>preprocessed_text</th>\n",
       "      <th>text_length</th>\n",
       "    </tr>\n",
       "  </thead>\n",
       "  <tbody>\n",
       "    <tr>\n",
       "      <th>0</th>\n",
       "      <td>0</td>\n",
       "      <td>dear american teen question dutch person heard...</td>\n",
       "      <td>19</td>\n",
       "    </tr>\n",
       "    <tr>\n",
       "      <th>1</th>\n",
       "      <td>1</td>\n",
       "      <td>nothing look forward lifei dont many reason ke...</td>\n",
       "      <td>19</td>\n",
       "    </tr>\n",
       "    <tr>\n",
       "      <th>2</th>\n",
       "      <td>0</td>\n",
       "      <td>music recommendation looking expand playlist u...</td>\n",
       "      <td>49</td>\n",
       "    </tr>\n",
       "    <tr>\n",
       "      <th>3</th>\n",
       "      <td>1</td>\n",
       "      <td>done trying feel betterthe reason still alive ...</td>\n",
       "      <td>82</td>\n",
       "    </tr>\n",
       "    <tr>\n",
       "      <th>4</th>\n",
       "      <td>1</td>\n",
       "      <td>worried year girl subject domestic physicalmen...</td>\n",
       "      <td>272</td>\n",
       "    </tr>\n",
       "  </tbody>\n",
       "</table>\n",
       "</div>"
      ],
      "text/plain": [
       "   label                                  preprocessed_text  text_length\n",
       "0      0  dear american teen question dutch person heard...           19\n",
       "1      1  nothing look forward lifei dont many reason ke...           19\n",
       "2      0  music recommendation looking expand playlist u...           49\n",
       "3      1  done trying feel betterthe reason still alive ...           82\n",
       "4      1  worried year girl subject domestic physicalmen...          272"
      ]
     },
     "execution_count": 24,
     "metadata": {},
     "output_type": "execute_result"
    }
   ],
   "source": [
    "df.head()"
   ]
  },
  {
   "cell_type": "code",
   "execution_count": 25,
   "id": "26f3d61c-c596-44b6-8707-1c39df27131f",
   "metadata": {},
   "outputs": [
    {
     "data": {
      "text/plain": [
       "array([0, 1, 0, ..., 1, 1, 0], dtype=int64)"
      ]
     },
     "execution_count": 25,
     "metadata": {},
     "output_type": "execute_result"
    }
   ],
   "source": [
    "y=df['label'].values\n",
    "y"
   ]
  },
  {
   "cell_type": "code",
   "execution_count": 26,
   "id": "98d029c0-1940-4553-a764-127a43651910",
   "metadata": {},
   "outputs": [
    {
     "name": "stdout",
     "output_type": "stream",
     "text": [
      "Column names: ['label', 'preprocessed_text', 'text_length']\n"
     ]
    }
   ],
   "source": [
    "print(\"Column names:\", df.columns.tolist())\n"
   ]
  },
  {
   "cell_type": "code",
   "execution_count": 27,
   "id": "8135e9ad-9966-44f7-97b1-43b35ab6231f",
   "metadata": {},
   "outputs": [
    {
     "name": "stdout",
     "output_type": "stream",
     "text": [
      "RangeIndex(start=0, stop=0, step=1)\n"
     ]
    }
   ],
   "source": [
    "import pandas as pd\n",
    "data = pd.DataFrame(data)\n",
    "print(data.columns)\n",
    "\n"
   ]
  },
  {
   "cell_type": "code",
   "execution_count": 28,
   "id": "3b643304-c91b-49e9-8e92-77d01b566dc3",
   "metadata": {},
   "outputs": [
    {
     "name": "stdout",
     "output_type": "stream",
     "text": [
      "x_train_tfidf shape: (19580, 52803)\n",
      "y_train shape: (19580,)\n"
     ]
    }
   ],
   "source": [
    "# Ensure X and y are correctly assigned before splitting\n",
    "X = df['preprocessed_text']  # Features\n",
    "y = df['label']  # Labels\n",
    "\n",
    "# Split the dataset into training and testing sets\n",
    "from sklearn.model_selection import train_test_split\n",
    "x_train, x_test, y_train, y_test = train_test_split(X, y, test_size=0.3, random_state=1)\n",
    "\n",
    "# Now vectorize the text data using TF-IDF\n",
    "vectorizer = TfidfVectorizer()\n",
    "X_train_tfidf = vectorizer.fit_transform(x_train)  # Apply fit_transform to training data\n",
    "X_test_tfidf = vectorizer.transform(x_test)  # Apply transform to test data\n",
    "\n",
    "# Check the shapes\n",
    "print(f\"x_train_tfidf shape: {X_train_tfidf.shape}\")\n",
    "print(f\"y_train shape: {y_train.shape}\")\n"
   ]
  },
  {
   "cell_type": "code",
   "execution_count": 29,
   "id": "c3211e69-bea7-4020-a10b-334eea0ad7b7",
   "metadata": {},
   "outputs": [],
   "source": [
    "X = df['preprocessed_text']  # Assuming 'preprocessed_text' is the feature column\n",
    "y = df['label']  # Label column\n",
    "\n",
    "from sklearn.model_selection import train_test_split\n",
    "x_train, x_test, y_train, y_test = train_test_split(X, y, test_size=0.3, random_state=1)\n"
   ]
  },
  {
   "cell_type": "code",
   "execution_count": 30,
   "id": "e2b8ef6c-68a1-43f3-a9a7-0e80b8aa788b",
   "metadata": {},
   "outputs": [],
   "source": [
    "X = df[['preprocessed_text', 'text_length']]  # Example with multiple features\n"
   ]
  },
  {
   "cell_type": "code",
   "execution_count": 31,
   "id": "e7d1c7c5-4374-4693-b566-2e3b8aab4dbc",
   "metadata": {},
   "outputs": [
    {
     "data": {
      "image/png": "[encoded data removed]",
      "text/plain": [
       "<Figure size 640x480 with 1 Axes>"
      ]
     },
     "metadata": {},
     "output_type": "display_data"
    }
   ],
   "source": [
    "import matplotlib.pyplot as plt\n",
    "import numpy as np\n",
    "\n",
    "# Assuming your training labels are in a list or array `y_train`\n",
    "unique, counts = np.unique(y_train, return_counts=True)\n",
    "\n",
    "plt.bar(unique, counts)\n",
    "plt.xlabel('Classes')\n",
    "plt.ylabel('Frequency')\n",
    "plt.title('Class Distribution')\n",
    "plt.show()\n"
   ]
  },
  {
   "cell_type": "markdown",
   "id": "ab6ee900-7647-4ac7-8714-db307576f388",
   "metadata": {},
   "source": [
    "# Model Building"
   ]
  },
  {
   "cell_type": "markdown",
   "id": "ad2e6944-4a5f-467e-84b4-8076b900c8d2",
   "metadata": {},
   "source": [
    "# Decision Tree Classfier"
   ]
  },
  {
   "cell_type": "code",
   "execution_count": 32,
   "id": "22c48f02-0733-4100-b0bc-a8bd37d72ea3",
   "metadata": {},
   "outputs": [
    {
     "name": "stdout",
     "output_type": "stream",
     "text": [
      "              precision    recall  f1-score   support\n",
      "\n",
      "           0       0.81      0.83      0.82      4271\n",
      "           1       0.82      0.80      0.81      4121\n",
      "\n",
      "    accuracy                           0.81      8392\n",
      "   macro avg       0.81      0.81      0.81      8392\n",
      "weighted avg       0.81      0.81      0.81      8392\n",
      "\n",
      "0.8137511916110581\n",
      "Decision Tree Confusion Matrix:\n",
      " [[3524  747]\n",
      " [ 816 3305]]\n",
      "Decision Tree F1 Score: 0.8137112015911571\n",
      "Decision Tree F1 Score (%): 81.3711201591157\n"
     ]
    }
   ],
   "source": [
    "from sklearn.feature_extraction.text import TfidfVectorizer\n",
    "from sklearn.tree import DecisionTreeClassifier\n",
    "from sklearn.metrics import classification_report, accuracy_score, confusion_matrix, f1_score\n",
    "\n",
    "# Vectorize the text data using TF-IDF\n",
    "vectorizer = TfidfVectorizer()\n",
    "X_train_tfidf = vectorizer.fit_transform(x_train)  # Apply fit_transform to training data\n",
    "X_test_tfidf = vectorizer.transform(x_test)  # Apply transform to test data\n",
    "\n",
    "# Create and train the decision tree classifier\n",
    "Dt = DecisionTreeClassifier()\n",
    "Dt.fit(X_train_tfidf, y_train)  # Train the model on the vectorized data\n",
    "\n",
    "# Make predictions\n",
    "y_pred = Dt.predict(X_test_tfidf)\n",
    "\n",
    "# Print classification report and accuracy score\n",
    "print(classification_report(y_test, y_pred))\n",
    "print(accuracy_score(y_test, y_pred))\n",
    "\n",
    "# Calculate and print confusion matrix and F1 score\n",
    "conf_matrix = confusion_matrix(y_test, y_pred)\n",
    "print(\"Decision Tree Confusion Matrix:\\n\", conf_matrix)\n",
    "dt_f1 = f1_score(y_test, y_pred, average='weighted')\n",
    "dt_f1_percentage = dt_f1 * 100\n",
    "print(f\"Decision Tree F1 Score: {dt_f1}\")\n",
    "print(\"Decision Tree F1 Score (%):\", dt_f1_percentage)\n"
   ]
  },
  {
   "cell_type": "code",
   "execution_count": 33,
   "id": "d1e2895f-2121-4f56-b6ce-752fd036da4a",
   "metadata": {},
   "outputs": [
    {
     "data": {
      "text/plain": [
       "0.8137511916110581"
      ]
     },
     "execution_count": 33,
     "metadata": {},
     "output_type": "execute_result"
    }
   ],
   "source": [
    "dt_acc=accuracy_score(y_test,y_pred)\n",
    "dt_acc"
   ]
  },
  {
   "cell_type": "markdown",
   "id": "35e37ca3-c576-4ad4-8049-12e45e54818b",
   "metadata": {},
   "source": [
    "# Random Forest Classifier"
   ]
  },
  {
   "cell_type": "code",
   "execution_count": 34,
   "id": "6b8d844e-b305-49cc-816d-9bfe94b105db",
   "metadata": {},
   "outputs": [
    {
     "name": "stdout",
     "output_type": "stream",
     "text": [
      "              precision    recall  f1-score   support\n",
      "\n",
      "           0       0.88      0.90      0.89      4271\n",
      "           1       0.89      0.87      0.88      4121\n",
      "\n",
      "    accuracy                           0.89      8392\n",
      "   macro avg       0.89      0.89      0.89      8392\n",
      "weighted avg       0.89      0.89      0.89      8392\n",
      "\n",
      "0.8869161105815062\n",
      "Random Forest Confusion Matrix:\n",
      " [[3841  430]\n",
      " [ 519 3602]]\n",
      "Random Forest F1 Score: 0.88688192758852\n",
      "Random Forest F1 Score (%): 88.688192758852\n"
     ]
    }
   ],
   "source": [
    "from sklearn.feature_extraction.text import TfidfVectorizer\n",
    "from sklearn.ensemble import RandomForestClassifier\n",
    "from sklearn.metrics import classification_report, accuracy_score, confusion_matrix, f1_score\n",
    "\n",
    "# Vectorize the text data using TF-IDF\n",
    "vectorizer = TfidfVectorizer()\n",
    "X_train_tfidf = vectorizer.fit_transform(x_train)  # Apply fit_transform to training data\n",
    "X_test_tfidf = vectorizer.transform(x_test)  # Apply transform to test data\n",
    "\n",
    "# Create and train the random forest classifier\n",
    "rf = RandomForestClassifier()\n",
    "rf.fit(X_train_tfidf, y_train)  # Train the model on the vectorized data\n",
    "\n",
    "# Make predictions\n",
    "y_pred = rf.predict(X_test_tfidf)\n",
    "\n",
    "# Print classification report and accuracy score\n",
    "print(classification_report(y_test, y_pred))\n",
    "print(accuracy_score(y_test, y_pred))\n",
    "\n",
    "# Calculate and print confusion matrix and F1 score\n",
    "conf_matrix = confusion_matrix(y_test, y_pred)\n",
    "print(\"Random Forest Confusion Matrix:\\n\", conf_matrix)\n",
    "rf_f1 = f1_score(y_test, y_pred, average='weighted')\n",
    "rf_f1_percentage = rf_f1 * 100\n",
    "print(f\"Random Forest F1 Score: {rf_f1}\")\n",
    "print(\"Random Forest F1 Score (%):\", rf_f1_percentage)\n"
   ]
  },
  {
   "cell_type": "code",
   "execution_count": 35,
   "id": "fc1bb065-cba6-41c2-a1c3-ab18a4a1d4a2",
   "metadata": {},
   "outputs": [
    {
     "data": {
      "text/plain": [
       "0.8869161105815062"
      ]
     },
     "execution_count": 35,
     "metadata": {},
     "output_type": "execute_result"
    }
   ],
   "source": [
    "rf_acc=accuracy_score(y_test,y_pred)\n",
    "rf_acc"
   ]
  },
  {
   "cell_type": "markdown",
   "id": "edc8c2d8-fe33-4f62-b3c0-deaf40724baa",
   "metadata": {},
   "source": [
    "# Adaboost Classifier"
   ]
  },
  {
   "cell_type": "code",
   "execution_count": 36,
   "id": "c0a958a1-23e2-4b40-88ae-e394c4859ba0",
   "metadata": {},
   "outputs": [
    {
     "name": "stdout",
     "output_type": "stream",
     "text": [
      "              precision    recall  f1-score   support\n",
      "\n",
      "           0       0.84      0.91      0.87      4271\n",
      "           1       0.90      0.82      0.86      4121\n",
      "\n",
      "    accuracy                           0.87      8392\n",
      "   macro avg       0.87      0.87      0.87      8392\n",
      "weighted avg       0.87      0.87      0.87      8392\n",
      "\n",
      "0.8666587225929456\n",
      "AdaBoost Confusion Matrix:\n",
      " [[3906  365]\n",
      " [ 754 3367]]\n",
      "AdaBoost F1 Score: 0.8662600950607368\n",
      "AdaBoost F1 Score (%): 86.62600950607367\n"
     ]
    }
   ],
   "source": [
    "from sklearn.feature_extraction.text import TfidfVectorizer\n",
    "from sklearn.ensemble import AdaBoostClassifier\n",
    "from sklearn.metrics import classification_report, accuracy_score, confusion_matrix, f1_score\n",
    "\n",
    "# Vectorize the text data using TF-IDF\n",
    "vectorizer = TfidfVectorizer()\n",
    "X_train_tfidf = vectorizer.fit_transform(x_train)  # Apply fit_transform to training data\n",
    "X_test_tfidf = vectorizer.transform(x_test)  # Apply transform to test data\n",
    "\n",
    "# Create and train the AdaBoost classifier\n",
    "ab = AdaBoostClassifier()\n",
    "ab.fit(X_train_tfidf, y_train)  # Train the model on the vectorized data\n",
    "\n",
    "# Make predictions\n",
    "y_pred = ab.predict(X_test_tfidf)\n",
    "\n",
    "# Print classification report and accuracy score\n",
    "print(classification_report(y_test, y_pred))\n",
    "print(accuracy_score(y_test, y_pred))\n",
    "\n",
    "# Calculate and print confusion matrix and F1 score\n",
    "conf_matrix = confusion_matrix(y_test, y_pred)\n",
    "print(\"AdaBoost Confusion Matrix:\\n\", conf_matrix)\n",
    "ab_f1 = f1_score(y_test, y_pred, average='weighted')\n",
    "ab_f1_percentage = ab_f1 * 100\n",
    "print(f\"AdaBoost F1 Score: {ab_f1}\")\n",
    "print(\"AdaBoost F1 Score (%):\", ab_f1_percentage)\n"
   ]
  },
  {
   "cell_type": "code",
   "execution_count": 37,
   "id": "0c3ba0f8-ddeb-4d28-a66e-a9e0055eff49",
   "metadata": {},
   "outputs": [
    {
     "data": {
      "text/plain": [
       "0.8666587225929456"
      ]
     },
     "execution_count": 37,
     "metadata": {},
     "output_type": "execute_result"
    }
   ],
   "source": [
    "ab_acc=accuracy_score(y_test,y_pred)\n",
    "ab_acc"
   ]
  },
  {
   "cell_type": "markdown",
   "id": "f594d857-a505-47be-b399-5df02114914f",
   "metadata": {},
   "source": [
    "# Gradient Boosting Classifier"
   ]
  },
  {
   "cell_type": "code",
   "execution_count": 38,
   "id": "8bf3d449-99ea-47f4-bd2a-64ab99353ef1",
   "metadata": {},
   "outputs": [
    {
     "name": "stdout",
     "output_type": "stream",
     "text": [
      "              precision    recall  f1-score   support\n",
      "\n",
      "           0       0.83      0.91      0.87      4271\n",
      "           1       0.90      0.81      0.85      4121\n",
      "\n",
      "    accuracy                           0.86      8392\n",
      "   macro avg       0.87      0.86      0.86      8392\n",
      "weighted avg       0.86      0.86      0.86      8392\n",
      "\n",
      "0.8610581506196378\n",
      "Gradient Boosting Confusion Matrix:\n",
      " [[3902  369]\n",
      " [ 797 3324]]\n",
      "Gradient Boosting F1 Score: 0.8605677637505286\n",
      "Gradient Boosting F1 Score (%): 86.05677637505286\n"
     ]
    }
   ],
   "source": [
    "from sklearn.feature_extraction.text import TfidfVectorizer\n",
    "from sklearn.ensemble import GradientBoostingClassifier\n",
    "from sklearn.metrics import classification_report, accuracy_score, confusion_matrix, f1_score\n",
    "\n",
    "# Vectorize the text data using TF-IDF\n",
    "vectorizer = TfidfVectorizer()\n",
    "X_train_tfidf = vectorizer.fit_transform(x_train)  # Apply fit_transform to training data\n",
    "X_test_tfidf = vectorizer.transform(x_test)  # Apply transform to test data\n",
    "\n",
    "# Create and train the Gradient Boosting classifier\n",
    "gb = GradientBoostingClassifier()\n",
    "gb.fit(X_train_tfidf, y_train)  # Train the model on the vectorized data\n",
    "\n",
    "# Make predictions\n",
    "y_pred = gb.predict(X_test_tfidf)\n",
    "\n",
    "# Print classification report and accuracy score\n",
    "print(classification_report(y_test, y_pred))\n",
    "print(accuracy_score(y_test, y_pred))\n",
    "\n",
    "# Calculate and print confusion matrix and F1 score\n",
    "conf_matrix = confusion_matrix(y_test, y_pred)\n",
    "print(\"Gradient Boosting Confusion Matrix:\\n\", conf_matrix)\n",
    "gb_f1 = f1_score(y_test, y_pred, average='weighted')\n",
    "gb_f1_percentage = gb_f1 * 100\n",
    "print(f\"Gradient Boosting F1 Score: {gb_f1}\")\n",
    "print(\"Gradient Boosting F1 Score (%):\", gb_f1_percentage)\n"
   ]
  },
  {
   "cell_type": "code",
   "execution_count": 39,
   "id": "c9790a1d-4c35-48c4-aa1e-e1be1afd9689",
   "metadata": {},
   "outputs": [
    {
     "data": {
      "text/plain": [
       "0.8610581506196378"
      ]
     },
     "execution_count": 39,
     "metadata": {},
     "output_type": "execute_result"
    }
   ],
   "source": [
    "gb_acc=accuracy_score(y_test,y_pred)\n",
    "gb_acc"
   ]
  },
  {
   "cell_type": "markdown",
   "id": "ef7e0707-f40e-46e6-8ccd-a5bcd6a355fb",
   "metadata": {},
   "source": [
    "# Logistic Regression"
   ]
  },
  {
   "cell_type": "code",
   "execution_count": 40,
   "id": "6250521d-cd01-4591-848f-0a2b1272ac1e",
   "metadata": {},
   "outputs": [
    {
     "name": "stdout",
     "output_type": "stream",
     "text": [
      "              precision    recall  f1-score   support\n",
      "\n",
      "           0       0.90      0.93      0.91      4271\n",
      "           1       0.93      0.89      0.91      4121\n",
      "\n",
      "    accuracy                           0.91      8392\n",
      "   macro avg       0.91      0.91      0.91      8392\n",
      "weighted avg       0.91      0.91      0.91      8392\n",
      "\n",
      "0.911582459485224\n",
      "Logistic Regression Confusion Matrix:\n",
      " [[3975  296]\n",
      " [ 446 3675]]\n",
      "Logistic Regression F1 Score: 0.911525890895452\n",
      "Logistic Regression F1 Score (%): 91.1525890895452\n"
     ]
    }
   ],
   "source": [
    "from sklearn.feature_extraction.text import TfidfVectorizer\n",
    "from sklearn.linear_model import LogisticRegression\n",
    "from sklearn.metrics import classification_report, accuracy_score, confusion_matrix, f1_score\n",
    "\n",
    "# Vectorize the text data using TF-IDF\n",
    "vectorizer = TfidfVectorizer()\n",
    "X_train_tfidf = vectorizer.fit_transform(x_train)  # Apply fit_transform to training data\n",
    "X_test_tfidf = vectorizer.transform(x_test)  # Apply transform to test data\n",
    "\n",
    "# Create and train the Logistic Regression classifier\n",
    "lr = LogisticRegression(max_iter=1000)\n",
    "lr.fit(X_train_tfidf, y_train)  # Train the model on the vectorized data\n",
    "\n",
    "# Make predictions\n",
    "y_pred = lr.predict(X_test_tfidf)\n",
    "\n",
    "# Print classification report and accuracy score\n",
    "print(classification_report(y_test, y_pred))\n",
    "print(accuracy_score(y_test, y_pred))\n",
    "\n",
    "# Calculate and print confusion matrix and F1 score\n",
    "conf_matrix = confusion_matrix(y_test, y_pred)\n",
    "print(\"Logistic Regression Confusion Matrix:\\n\", conf_matrix)\n",
    "lr_f1 = f1_score(y_test, y_pred, average='weighted')\n",
    "lr_f1_percentage = lr_f1 * 100\n",
    "print(f\"Logistic Regression F1 Score: {lr_f1}\")\n",
    "print(\"Logistic Regression F1 Score (%):\", lr_f1_percentage)\n"
   ]
  },
  {
   "cell_type": "code",
   "execution_count": 41,
   "id": "51b22339-416f-4dbf-bc33-47da0519027d",
   "metadata": {},
   "outputs": [
    {
     "data": {
      "text/plain": [
       "0.911582459485224"
      ]
     },
     "execution_count": 41,
     "metadata": {},
     "output_type": "execute_result"
    }
   ],
   "source": [
    "lr_acc=accuracy_score(y_test,y_pred)\n",
    "lr_acc"
   ]
  },
  {
   "cell_type": "markdown",
   "id": "302cec50-f8c9-46d2-82f7-a79976a55c53",
   "metadata": {},
   "source": [
    "# Support Vector Classifier"
   ]
  },
  {
   "cell_type": "code",
   "execution_count": 42,
   "id": "8a6496d8-48bb-4849-a23c-fe9a681a98c0",
   "metadata": {},
   "outputs": [
    {
     "name": "stdout",
     "output_type": "stream",
     "text": [
      "              precision    recall  f1-score   support\n",
      "\n",
      "           0       0.90      0.94      0.92      4271\n",
      "           1       0.93      0.90      0.91      4121\n",
      "\n",
      "    accuracy                           0.92      8392\n",
      "   macro avg       0.92      0.92      0.92      8392\n",
      "weighted avg       0.92      0.92      0.92      8392\n",
      "\n",
      "0.9168255481410867\n",
      "Support Vector Classifier Confusion Matrix:\n",
      " [[3995  276]\n",
      " [ 422 3699]]\n",
      "Support Vector Classifier F1 Score: 0.9167744453992032\n",
      "Support Vector Classifier F1 Score (%): 91.67744453992032\n"
     ]
    }
   ],
   "source": [
    "from sklearn.feature_extraction.text import TfidfVectorizer\n",
    "from sklearn.svm import SVC\n",
    "from sklearn.metrics import classification_report, accuracy_score, confusion_matrix, f1_score\n",
    "\n",
    "# Vectorize the text data using TF-IDF\n",
    "vectorizer = TfidfVectorizer()\n",
    "X_train_tfidf = vectorizer.fit_transform(x_train)  # Apply fit_transform to training data\n",
    "X_test_tfidf = vectorizer.transform(x_test)  # Apply transform to test data\n",
    "\n",
    "# Create and train the Support Vector Classifier (SVC)\n",
    "sv = SVC()\n",
    "sv.fit(X_train_tfidf, y_train)  # Train the model on the vectorized data\n",
    "\n",
    "# Make predictions\n",
    "y_pred = sv.predict(X_test_tfidf)\n",
    "\n",
    "# Print classification report and accuracy score\n",
    "print(classification_report(y_test, y_pred))\n",
    "print(accuracy_score(y_test, y_pred))\n",
    "\n",
    "# Calculate and print confusion matrix and F1 score\n",
    "conf_matrix = confusion_matrix(y_test, y_pred)\n",
    "print(\"Support Vector Classifier Confusion Matrix:\\n\", conf_matrix)\n",
    "svc_f1 = f1_score(y_test, y_pred, average='weighted')\n",
    "svc_f1_percentage = svc_f1 * 100\n",
    "print(f\"Support Vector Classifier F1 Score: {svc_f1}\")\n",
    "print(\"Support Vector Classifier F1 Score (%):\", svc_f1_percentage)\n"
   ]
  },
  {
   "cell_type": "code",
   "execution_count": 43,
   "id": "c5067d6b-76ea-4154-91fc-a6594837d9c8",
   "metadata": {},
   "outputs": [
    {
     "data": {
      "text/plain": [
       "0.9168255481410867"
      ]
     },
     "execution_count": 43,
     "metadata": {},
     "output_type": "execute_result"
    }
   ],
   "source": [
    "sv_acc=accuracy_score(y_test,y_pred)\n",
    "sv_acc"
   ]
  },
  {
   "cell_type": "markdown",
   "id": "f0e17864-27e0-4634-9b02-9bd136d72f4e",
   "metadata": {},
   "source": [
    "# Performance testing and Hyper Parameter Tunning"
   ]
  },
  {
   "cell_type": "code",
   "execution_count": 50,
   "id": "2891ffd7-660a-42ef-8c93-7d077b2d88c8",
   "metadata": {},
   "outputs": [
    {
     "data": {
      "text/html": [
       "<div>\n",
       "<style scoped>\n",
       "    .dataframe tbody tr th:only-of-type {\n",
       "        vertical-align: middle;\n",
       "    }\n",
       "\n",
       "    .dataframe tbody tr th {\n",
       "        vertical-align: top;\n",
       "    }\n",
       "\n",
       "    .dataframe thead th {\n",
       "        text-align: right;\n",
       "    }\n",
       "</style>\n",
       "<table border=\"1\" class=\"dataframe\">\n",
       "  <thead>\n",
       "    <tr style=\"text-align: right;\">\n",
       "      <th></th>\n",
       "      <th>Model</th>\n",
       "      <th>Score</th>\n",
       "    </tr>\n",
       "  </thead>\n",
       "  <tbody>\n",
       "    <tr>\n",
       "      <th>0</th>\n",
       "      <td>Decision Tree</td>\n",
       "      <td>0.813751</td>\n",
       "    </tr>\n",
       "    <tr>\n",
       "      <th>1</th>\n",
       "      <td>Random Forest</td>\n",
       "      <td>0.886916</td>\n",
       "    </tr>\n",
       "    <tr>\n",
       "      <th>2</th>\n",
       "      <td>AdaBoost</td>\n",
       "      <td>0.866659</td>\n",
       "    </tr>\n",
       "    <tr>\n",
       "      <th>3</th>\n",
       "      <td>GradientBoosting</td>\n",
       "      <td>0.861058</td>\n",
       "    </tr>\n",
       "    <tr>\n",
       "      <th>4</th>\n",
       "      <td>Logistic Regression</td>\n",
       "      <td>0.911582</td>\n",
       "    </tr>\n",
       "    <tr>\n",
       "      <th>5</th>\n",
       "      <td>Support Vector Machine</td>\n",
       "      <td>0.916826</td>\n",
       "    </tr>\n",
       "  </tbody>\n",
       "</table>\n",
       "</div>"
      ],
      "text/plain": [
       "                    Model     Score\n",
       "0           Decision Tree  0.813751\n",
       "1           Random Forest  0.886916\n",
       "2                AdaBoost  0.866659\n",
       "3        GradientBoosting  0.861058\n",
       "4     Logistic Regression  0.911582\n",
       "5  Support Vector Machine  0.916826"
      ]
     },
     "execution_count": 50,
     "metadata": {},
     "output_type": "execute_result"
    }
   ],
   "source": [
    "model = pd.DataFrame({'Model': [ 'Decision Tree', 'Random Forest', 'AdaBoost', 'GradientBoosting', 'Logistic Regression','Support Vector Machine'], 'Score': [dt_acc,rf_acc,ab_acc,gb_acc,lr_acc,sv_acc]})\n",
    "model"
   ]
  },
  {
   "cell_type": "code",
   "execution_count": 51,
   "id": "04c6ff85-9998-4122-8ab7-e9021ca996f9",
   "metadata": {},
   "outputs": [
    {
     "name": "stdout",
     "output_type": "stream",
     "text": [
      "Positive\n"
     ]
    }
   ],
   "source": [
    "# Use the same vectorizer (vectorizer) that was used during training\n",
    "y_new = sv.predict(vectorizer.transform([\"I'm overwhelmed with anxiety about the future.\"])) \n",
    "\n",
    "if y_new == 1:  # Use '==' for comparison\n",
    "    print(\"Positive\") \n",
    "elif y_new == 0:  # Use '==' for comparison\n",
    "    print(\"Negative\")\n",
    "\n"
   ]
  },
  {
   "cell_type": "code",
   "execution_count": 52,
   "id": "dbf88718-7363-41c4-a0dc-9aab266904b2",
   "metadata": {},
   "outputs": [
    {
     "name": "stdout",
     "output_type": "stream",
     "text": [
      "Negative\n"
     ]
    }
   ],
   "source": [
    "# Use the same vectorizer that was used during training\n",
    "y_new = sv.predict(vectorizer.transform([\"I had a great time with friends last night.\"])) \n",
    "\n",
    "if y_new == 1:  # Check if the predicted label is 1\n",
    "    print(\"Positive\") \n",
    "elif y_new == 0:  # Check if the predicted label is 0\n",
    "    print(\"Negative\")\n"
   ]
  },
  {
   "cell_type": "code",
   "execution_count": 53,
   "id": "d2962360-66c9-4a8e-a4cb-fedf263976cd",
   "metadata": {},
   "outputs": [
    {
     "name": "stdout",
     "output_type": "stream",
     "text": [
      "Model and vectorizer saved successfully!\n"
     ]
    }
   ],
   "source": [
    "import pandas as pd\n",
    "from sklearn.feature_extraction.text import TfidfVectorizer\n",
    "from sklearn.svm import SVC\n",
    "from sklearn.model_selection import train_test_split\n",
    "import joblib\n",
    "import pickle\n",
    "\n",
    "# Load data from a CSV file\n",
    "df = pd.read_csv('C:/Users/lenovo/Desktop/Unlocking_minds/dataset/mental_health.csv')\n",
    "\n",
    "# Extract documents and labels\n",
    "documents = df['text'].tolist()\n",
    "labels = df['label'].tolist()\n",
    "\n",
    "# Define and fit the TfidfVectorizer\n",
    "tfidf_vectorizer = TfidfVectorizer()\n",
    "X = tfidf_vectorizer.fit_transform(documents)\n",
    "\n",
    "# Split data\n",
    "X_train, X_test, y_train, y_test = train_test_split(X, labels, test_size=0.2, random_state=42)\n",
    "\n",
    "# Define and train the model\n",
    "model = SVC()\n",
    "model.fit(X_train, y_train)\n",
    "\n",
    "# Save the model and vectorizer\n",
    "with open('model.pkl', 'wb') as f:\n",
    "    joblib.dump(model, f)\n",
    "with open('TfidfVectorizer.pkl', 'wb') as f:\n",
    "    joblib.dump(tfidf_vectorizer, f)\n",
    "\n",
    "print(\"Model and vectorizer saved successfully!\")\n"
   ]
  },
  {
   "cell_type": "markdown",
   "id": "0a929707-1082-428b-8145-657460df45e2",
   "metadata": {},
   "source": [
    "# Model Deployment\n",
    "Save the best model"
   ]
  },
  {
   "cell_type": "code",
   "execution_count": 54,
   "id": "96444c96-ce5d-469b-a42c-fa0950d2b0f5",
   "metadata": {},
   "outputs": [
    {
     "name": "stdout",
     "output_type": "stream",
     "text": [
      "Model and vectorizer loaded successfully!\n"
     ]
    }
   ],
   "source": [
    "import joblib\n",
    "import pickle\n",
    "\n",
    "try:\n",
    "    # Load the model and vectorizer\n",
    "    with open('model.pkl', 'rb') as f:\n",
    "        model = joblib.load(f)\n",
    "    \n",
    "    with open('TfidfVectorizer.pkl', 'rb') as f:\n",
    "        tfidf_vectorizer = joblib.load(f)\n",
    "\n",
    "    print(\"Model and vectorizer loaded successfully!\")\n",
    "\n",
    "except Exception as e:\n",
    "    print(f\"Error during loading: {e}\")\n"
   ]
  },
  {
   "cell_type": "code",
   "execution_count": 55,
   "id": "401312b0-ce6b-4ef6-bda3-42a1e480c56d",
   "metadata": {},
   "outputs": [
    {
     "name": "stdout",
     "output_type": "stream",
     "text": [
      "Model and vectorizer loaded successfully!\n",
      "Raw Prediction: 1\n",
      "Prediction: Positive\n"
     ]
    }
   ],
   "source": [
    "import joblib\n",
    "import pickle\n",
    "\n",
    "try:\n",
    "    # Load the model and vectorizer\n",
    "    with open('model.pkl', 'rb') as f:\n",
    "        model = joblib.load(f)\n",
    "    \n",
    "    with open('TfidfVectorizer.pkl', 'rb') as f:\n",
    "        tfidf_vectorizer = joblib.load(f)\n",
    "\n",
    "    print(\"Model and vectorizer loaded successfully!\")\n",
    "\n",
    "    # Define your preprocessed text here\n",
    "    preprocessed_text = \"cant go oni wanna kill ive gone shit cant bare life anymore im always shouted main person complain fucking shit self harm cuts armwrist cant tell anyone coz one \"  # Replace with actual text\n",
    "\n",
    "    # Vectorize the preprocessed text\n",
    "    text_vectorized = tfidf_vectorizer.transform([preprocessed_text])\n",
    "\n",
    "    # Make a prediction\n",
    "    prediction = model.predict(text_vectorized)[0]  # This will return the predicted label (0 or 1)\n",
    "\n",
    "    # Print the raw prediction value\n",
    "    print(f\"Raw Prediction: {prediction}\")\n",
    "\n",
    "    # Map the prediction to a label (assuming binary classification: 0 = Negative, 1 = Positive)\n",
    "    if prediction == 1:\n",
    "        label = \"Positive\"\n",
    "    elif prediction == 0:\n",
    "        label = \"Negative\"\n",
    "    else:\n",
    "        label = \"Unknown\"  # In case of unexpected prediction\n",
    "\n",
    "    print(f\"Prediction: {label}\")\n",
    "\n",
    "except Exception as e:\n",
    "    print(f\"Error during prediction: {e}\")\n"
   ]
  },
  {
   "cell_type": "code",
   "execution_count": 56,
   "id": "a5a0fbce-2f0e-47e7-ace2-b49a80c506ea",
   "metadata": {},
   "outputs": [
    {
     "name": "stdout",
     "output_type": "stream",
     "text": [
      "Loaded model type: <class 'sklearn.svm._classes.SVC'>\n",
      "Loaded vectorizer type: <class 'sklearn.feature_extraction.text.TfidfVectorizer'>\n"
     ]
    }
   ],
   "source": [
    "\n",
    "\n",
    "# Print the loaded model and vectorizer types\n",
    "print(f\"Loaded model type: {type(model)}\")\n",
    "print(f\"Loaded vectorizer type: {type(tfidf_vectorizer)}\")\n"
   ]
  },
  {
   "cell_type": "code",
   "execution_count": null,
   "id": "aba26c3e-ef1f-43eb-97f0-ae65e37d6911",
   "metadata": {},
   "outputs": [],
   "source": []
  },
  {
   "cell_type": "code",
   "execution_count": null,
   "id": "b86e85ca-20aa-434d-97ef-d0d77c82f506",
   "metadata": {},
   "outputs": [],
   "source": []
  }
 ],
 "metadata": {
  "kernelspec": {
   "display_name": "Python 3 (ipykernel)",
   "language": "python",
   "name": "python3"
  },
  "language_info": {
   "codemirror_mode": {
    "name": "ipython",
    "version": 3
   },
   "file_extension": ".py",
   "mimetype": "text/x-python",
   "name": "python",
   "nbconvert_exporter": "python",
   "pygments_lexer": "ipython3",
   "version": "3.11.7"
  }
 },
 "nbformat": 4,
 "nbformat_minor": 5
}
